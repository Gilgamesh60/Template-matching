{
  "nbformat": 4,
  "nbformat_minor": 0,
  "metadata": {
    "colab": {
      "provenance": [],
      "mount_file_id": "117GK36-8sB-rjeS720uZ9jcWoxG5BQsB",
      "authorship_tag": "ABX9TyNpssSu1ZLiI3xZm9vo65MJ",
      "include_colab_link": true
    },
    "kernelspec": {
      "name": "python3",
      "display_name": "Python 3"
    },
    "language_info": {
      "name": "python"
    }
  },
  "cells": [
    {
      "cell_type": "markdown",
      "metadata": {
        "id": "view-in-github",
        "colab_type": "text"
      },
      "source": [
        "<a href=\"https://colab.research.google.com/github/Gilgamesh60/intern_assignment/blob/main/assignments_code.ipynb\" target=\"_parent\"><img src=\"https://colab.research.google.com/assets/colab-badge.svg\" alt=\"Open In Colab\"/></a>"
      ]
    },
    {
      "cell_type": "markdown",
      "source": [
        "# Introduction"
      ],
      "metadata": {
        "id": "O09rq6_qayba"
      }
    },
    {
      "cell_type": "markdown",
      "source": [
        "The problem statement here is to extract details from the given pdf file.\n",
        "These details include information based on both textual part and symbol images in the pdf document file."
      ],
      "metadata": {
        "id": "ECX0PT_Ea3IF"
      }
    },
    {
      "cell_type": "markdown",
      "source": [
        "# Downloading modules"
      ],
      "metadata": {
        "id": "G8h47JV0YKyD"
      }
    },
    {
      "cell_type": "markdown",
      "source": [
        "**We will use pytesseract to detect text and pdf2image module to convert pdf to images**"
      ],
      "metadata": {
        "id": "TP2ixzCjYUWM"
      }
    },
    {
      "cell_type": "code",
      "execution_count": null,
      "metadata": {
        "id": "XLo6yK4krXcM"
      },
      "outputs": [],
      "source": [
        "!pip3 install pytesseract"
      ]
    },
    {
      "cell_type": "code",
      "source": [
        "!apt install tesseract-ocr"
      ],
      "metadata": {
        "id": "FizLC9HZr2Pk"
      },
      "execution_count": null,
      "outputs": []
    },
    {
      "cell_type": "code",
      "source": [
        "!pip install pdf2image"
      ],
      "metadata": {
        "id": "KfgFh3NTMJL4"
      },
      "execution_count": null,
      "outputs": []
    },
    {
      "cell_type": "code",
      "source": [
        "!sudo apt-get install poppler-utils"
      ],
      "metadata": {
        "id": "mcysKobENbBs"
      },
      "execution_count": null,
      "outputs": []
    },
    {
      "cell_type": "markdown",
      "source": [
        "# Importing libraries"
      ],
      "metadata": {
        "id": "D7YZNgzqaAhH"
      }
    },
    {
      "cell_type": "code",
      "source": [
        "import pytesseract\n",
        "from PIL import Image\n",
        "import cv2\n",
        "from google.colab.patches import cv2_imshow\n",
        "import numpy as np\n",
        "import pandas as pd\n",
        "import cv2\n",
        "from PIL import Image\n",
        "import os\n",
        "from pdf2image import convert_from_path"
      ],
      "metadata": {
        "id": "FWWZ0knVr9HW"
      },
      "execution_count": 8,
      "outputs": []
    },
    {
      "cell_type": "markdown",
      "source": [
        "# Image Processing"
      ],
      "metadata": {
        "id": "cLOwKkieaKqZ"
      }
    },
    {
      "cell_type": "code",
      "source": [
        "def image_smoothening(img):\n",
        "  # thresholding with less noise \n",
        "  ret1, th1 = cv2.threshold(img, 150, 255, cv2.THRESH_BINARY)\n",
        "  blur = cv2.GaussianBlur(th1, (5, 5), 0)\n",
        "  ret2, th2 = cv2.threshold(th1, 0, 255, cv2.THRESH_BINARY)\n",
        "  return th2\n",
        "\n",
        "def image_process(image):\n",
        "  img=np.asarray(image)\n",
        "  gray=cv2.cvtColor(img,cv2.COLOR_BGR2GRAY)\n",
        "  ret,thresh1 = cv2.threshold(gray,170, 255, cv2.THRESH_BINARY)\n",
        "  kernel = np.ones((1, 1), np.uint8)\n",
        "  thresh = cv2.morphologyEx(thresh1, cv2.MORPH_CLOSE, kernel)\n",
        "  thresh = cv2.morphologyEx(thresh1, cv2.MORPH_OPEN, kernel)\n",
        "  smooth_img = image_smoothening(gray)\n",
        "  final_img = cv2.bitwise_or(smooth_img, thresh)\n",
        "  return final_img"
      ],
      "metadata": {
        "id": "47fVdE2ktt8q"
      },
      "execution_count": 7,
      "outputs": []
    },
    {
      "cell_type": "markdown",
      "source": [
        "# Text data extraction"
      ],
      "metadata": {
        "id": "-XvgbYyOaQaf"
      }
    },
    {
      "cell_type": "code",
      "source": [
        "def info_finder(PDF_file_path):\n",
        "  Refs=[]\n",
        "  Device_name=[]\n",
        "  Lots=[]\n",
        "  qty=[]\n",
        "  images = convert_from_path(PDF_file_path)\n",
        "  for image in images :\n",
        "    img=image_process(image)\n",
        "    text=pytesseract.image_to_string(img)\n",
        "    text=text.replace('\\n',' ')\n",
        "    Refs.append(text.split('REF ')[1].split(' LOT')[0])\n",
        "    Device_name.append(text.split('Device Name: ')[1].split('  REF')[0])\n",
        "    Lots.append(int(text.split('LOT: ')[1].split(' ')[0]))\n",
        "    img=np.asarray(image)\n",
        "    image=img[0:390,735:1471]\n",
        "    text=pytesseract.image_to_string(image)\n",
        "    qty.append(int(text.split('Qty: ')[1].split('\\n')[0]))\n",
        "  return Refs,Device_name,Lots,qty"
      ],
      "metadata": {
        "id": "IZx1jH3ZsAAh"
      },
      "execution_count": 9,
      "outputs": []
    },
    {
      "cell_type": "code",
      "source": [
        "Refs=info_finder('/content/Label.pdf')[0]\n",
        "Device_name=info_finder('/content/Label.pdf')[1]\n",
        "Lots=info_finder('/content/Label.pdf')[2]\n",
        "qty=info_finder('/content/Label.pdf')[3]"
      ],
      "metadata": {
        "id": "R8aJqvXrW6Fo"
      },
      "execution_count": 214,
      "outputs": []
    },
    {
      "cell_type": "markdown",
      "source": [
        "## Symbol sequence detection"
      ],
      "metadata": {
        "id": "34tVoNnxaaFZ"
      }
    },
    {
      "cell_type": "code",
      "source": [
        "def sequence_finder(image):\n",
        "  coords=[]\n",
        "  image=cv2.resize(image,(1471,780))\n",
        "  image=cv2.cvtColor(image,cv2.COLOR_BGR2GRAY)\n",
        "  for i in range(9):\n",
        "    template=cv2.imread(f'/content/drive/MyDrive/symbols/{i+1}.png',0)\n",
        "    template=cv2.resize(template,(191,76))\n",
        "    w, h = template.shape[::-1]\n",
        "    res = cv2.matchTemplate(image, template, cv2.TM_CCOEFF_NORMED)\n",
        "    threshold = 0.6\n",
        "    loc = np.where(res >= threshold)\n",
        "    pts0=[]\n",
        "    pts1=[]\n",
        "    for pt in zip(*loc[::-1]):\n",
        "       pts0.append(pt[0])\n",
        "       pts1.append(pt[1])\n",
        "    if len(pts0)!=0:\n",
        "        coords.append((min(pts0),min(pts1),i+1))\n",
        "        #y_coords.append((min(pts1),i+1))\n",
        "    else:\n",
        "          continue\n",
        "    b=np.array(coords)\n",
        "    #b= b[b[:, 1].argsort(kind='mergesort')]\n",
        "    b2= b[b[:, 1].argsort(kind='mergesort')]\n",
        "    if len(b)>1:\n",
        "      if b2[-1][1]-b2[0][1]>10 and b2[-1][1]-b2[-2][1]<2:\n",
        "          b1=b2[b2[0:, 0].argsort(kind='mergesort')]\n",
        "          b1=np.vstack([b2[0],b1])\n",
        "          b1=b1[:-1]\n",
        "      elif b2[-1][1]-b2[0][1]>10 and b2[-1][1]-b2[-2][1]>10:\n",
        "        b1=b2[b2[:-1, 0].argsort(kind='mergesort')]\n",
        "        b1 = np.vstack([b1, b2[-1]])\n",
        "      else:\n",
        "        b1=b2[b2[:, 0].argsort(kind='mergesort')]\n",
        "    else:\n",
        "      b1=b;\n",
        "    s=[]\n",
        "    for i in range(len(b1)):\n",
        "      s.append(b1[i][2])\n",
        "    def convert(list):\n",
        "     \n",
        "      # Converting integer list to string list\n",
        "      s = [str(i) for i in list]\n",
        "     \n",
        "      # Join list items using join()\n",
        "      res = int(\"\".join(s))\n",
        "      return(res)\n",
        "  return convert(s)"
      ],
      "metadata": {
        "id": "V_6pD0S_9U1t"
      },
      "execution_count": 205,
      "outputs": []
    },
    {
      "cell_type": "code",
      "source": [
        "def sequencebuilder(PDF_file_path):\n",
        "  symbol_ids=[]\n",
        "  images = convert_from_path(PDF_file_path)\n",
        "  for image in images:\n",
        "    img=np.asarray(image)\n",
        "    symbol_ids.append(sequence_finder(img))\n",
        "  return symbol_ids"
      ],
      "metadata": {
        "id": "KtqQZ5MNWWwq"
      },
      "execution_count": 221,
      "outputs": []
    },
    {
      "cell_type": "code",
      "source": [
        "symbol_ids=sequencebuilder('/content/Label.pdf')"
      ],
      "metadata": {
        "id": "CAJBTyBQy_Dd"
      },
      "execution_count": 222,
      "outputs": []
    },
    {
      "cell_type": "code",
      "source": [
        "len(symbol_ids)"
      ],
      "metadata": {
        "colab": {
          "base_uri": "https://localhost:8080/"
        },
        "id": "o2lLwUUZWk5r",
        "outputId": "7751ab10-a5c4-4095-fc29-3089829d8962"
      },
      "execution_count": 223,
      "outputs": [
        {
          "output_type": "execute_result",
          "data": {
            "text/plain": [
              "9"
            ]
          },
          "metadata": {},
          "execution_count": 223
        }
      ]
    },
    {
      "cell_type": "markdown",
      "source": [
        "# Dataframe building"
      ],
      "metadata": {
        "id": "KvsRCseyarH5"
      }
    },
    {
      "cell_type": "code",
      "source": [
        "data=[]\n",
        "for i in range(len(symbol_ids)):\n",
        "  data.append((Device_name[i],Refs[i],Lots[i],qty[i],symbol_ids[i]))\n",
        "data=np.array(data)"
      ],
      "metadata": {
        "id": "iCf8EM0Y57pv"
      },
      "execution_count": 224,
      "outputs": []
    },
    {
      "cell_type": "code",
      "source": [
        "index_values = [1,2,3,4,5,6,7,8,9]\n",
        "df = pd.DataFrame(data = data,  index = index_values, \n",
        "                  columns = ['Device Name','REF','LOT','Qty','Symbols'])\n",
        "df"
      ],
      "metadata": {
        "colab": {
          "base_uri": "https://localhost:8080/",
          "height": 332
        },
        "id": "LpIxKfb46bwq",
        "outputId": "7768b6c8-9e56-49b0-a1b6-e5080c112b5e"
      },
      "execution_count": 227,
      "outputs": [
        {
          "output_type": "execute_result",
          "data": {
            "text/plain": [
              "           Device Name         REF    LOT Qty Symbols\n",
              "1       Bi-Pap Machine  NML903110   34669   1    3578\n",
              "2         Blood Warmer  NML903090   34641   1       1\n",
              "3        C-Pap Machine  NML903105   34662   1   15789\n",
              "4          ECG Machine  NML903060   34690   9    2578\n",
              "5         HFNC Machine  NML903095   34648   5    1289\n",
              "6        Infusion Pump  NML903065   34697  10    2589\n",
              "7         NIBP Monitor  NML903050   34676   5    4127\n",
              "8  Oxygen Concentrator  NML903100   34655   2   43567\n",
              "9       Pulse Oximeter  NML903055   34683   4    2369"
            ],
            "text/html": [
              "\n",
              "  <div id=\"df-e050787e-baf6-43e0-bbf7-3dcd5a5ce05b\">\n",
              "    <div class=\"colab-df-container\">\n",
              "      <div>\n",
              "<style scoped>\n",
              "    .dataframe tbody tr th:only-of-type {\n",
              "        vertical-align: middle;\n",
              "    }\n",
              "\n",
              "    .dataframe tbody tr th {\n",
              "        vertical-align: top;\n",
              "    }\n",
              "\n",
              "    .dataframe thead th {\n",
              "        text-align: right;\n",
              "    }\n",
              "</style>\n",
              "<table border=\"1\" class=\"dataframe\">\n",
              "  <thead>\n",
              "    <tr style=\"text-align: right;\">\n",
              "      <th></th>\n",
              "      <th>Device Name</th>\n",
              "      <th>REF</th>\n",
              "      <th>LOT</th>\n",
              "      <th>Qty</th>\n",
              "      <th>Symbols</th>\n",
              "    </tr>\n",
              "  </thead>\n",
              "  <tbody>\n",
              "    <tr>\n",
              "      <th>1</th>\n",
              "      <td>Bi-Pap Machine</td>\n",
              "      <td>NML903110</td>\n",
              "      <td>34669</td>\n",
              "      <td>1</td>\n",
              "      <td>3578</td>\n",
              "    </tr>\n",
              "    <tr>\n",
              "      <th>2</th>\n",
              "      <td>Blood Warmer</td>\n",
              "      <td>NML903090</td>\n",
              "      <td>34641</td>\n",
              "      <td>1</td>\n",
              "      <td>1</td>\n",
              "    </tr>\n",
              "    <tr>\n",
              "      <th>3</th>\n",
              "      <td>C-Pap Machine</td>\n",
              "      <td>NML903105</td>\n",
              "      <td>34662</td>\n",
              "      <td>1</td>\n",
              "      <td>15789</td>\n",
              "    </tr>\n",
              "    <tr>\n",
              "      <th>4</th>\n",
              "      <td>ECG Machine</td>\n",
              "      <td>NML903060</td>\n",
              "      <td>34690</td>\n",
              "      <td>9</td>\n",
              "      <td>2578</td>\n",
              "    </tr>\n",
              "    <tr>\n",
              "      <th>5</th>\n",
              "      <td>HFNC Machine</td>\n",
              "      <td>NML903095</td>\n",
              "      <td>34648</td>\n",
              "      <td>5</td>\n",
              "      <td>1289</td>\n",
              "    </tr>\n",
              "    <tr>\n",
              "      <th>6</th>\n",
              "      <td>Infusion Pump</td>\n",
              "      <td>NML903065</td>\n",
              "      <td>34697</td>\n",
              "      <td>10</td>\n",
              "      <td>2589</td>\n",
              "    </tr>\n",
              "    <tr>\n",
              "      <th>7</th>\n",
              "      <td>NIBP Monitor</td>\n",
              "      <td>NML903050</td>\n",
              "      <td>34676</td>\n",
              "      <td>5</td>\n",
              "      <td>4127</td>\n",
              "    </tr>\n",
              "    <tr>\n",
              "      <th>8</th>\n",
              "      <td>Oxygen Concentrator</td>\n",
              "      <td>NML903100</td>\n",
              "      <td>34655</td>\n",
              "      <td>2</td>\n",
              "      <td>43567</td>\n",
              "    </tr>\n",
              "    <tr>\n",
              "      <th>9</th>\n",
              "      <td>Pulse Oximeter</td>\n",
              "      <td>NML903055</td>\n",
              "      <td>34683</td>\n",
              "      <td>4</td>\n",
              "      <td>2369</td>\n",
              "    </tr>\n",
              "  </tbody>\n",
              "</table>\n",
              "</div>\n",
              "      <button class=\"colab-df-convert\" onclick=\"convertToInteractive('df-e050787e-baf6-43e0-bbf7-3dcd5a5ce05b')\"\n",
              "              title=\"Convert this dataframe to an interactive table.\"\n",
              "              style=\"display:none;\">\n",
              "        \n",
              "  <svg xmlns=\"http://www.w3.org/2000/svg\" height=\"24px\"viewBox=\"0 0 24 24\"\n",
              "       width=\"24px\">\n",
              "    <path d=\"M0 0h24v24H0V0z\" fill=\"none\"/>\n",
              "    <path d=\"M18.56 5.44l.94 2.06.94-2.06 2.06-.94-2.06-.94-.94-2.06-.94 2.06-2.06.94zm-11 1L8.5 8.5l.94-2.06 2.06-.94-2.06-.94L8.5 2.5l-.94 2.06-2.06.94zm10 10l.94 2.06.94-2.06 2.06-.94-2.06-.94-.94-2.06-.94 2.06-2.06.94z\"/><path d=\"M17.41 7.96l-1.37-1.37c-.4-.4-.92-.59-1.43-.59-.52 0-1.04.2-1.43.59L10.3 9.45l-7.72 7.72c-.78.78-.78 2.05 0 2.83L4 21.41c.39.39.9.59 1.41.59.51 0 1.02-.2 1.41-.59l7.78-7.78 2.81-2.81c.8-.78.8-2.07 0-2.86zM5.41 20L4 18.59l7.72-7.72 1.47 1.35L5.41 20z\"/>\n",
              "  </svg>\n",
              "      </button>\n",
              "      \n",
              "  <style>\n",
              "    .colab-df-container {\n",
              "      display:flex;\n",
              "      flex-wrap:wrap;\n",
              "      gap: 12px;\n",
              "    }\n",
              "\n",
              "    .colab-df-convert {\n",
              "      background-color: #E8F0FE;\n",
              "      border: none;\n",
              "      border-radius: 50%;\n",
              "      cursor: pointer;\n",
              "      display: none;\n",
              "      fill: #1967D2;\n",
              "      height: 32px;\n",
              "      padding: 0 0 0 0;\n",
              "      width: 32px;\n",
              "    }\n",
              "\n",
              "    .colab-df-convert:hover {\n",
              "      background-color: #E2EBFA;\n",
              "      box-shadow: 0px 1px 2px rgba(60, 64, 67, 0.3), 0px 1px 3px 1px rgba(60, 64, 67, 0.15);\n",
              "      fill: #174EA6;\n",
              "    }\n",
              "\n",
              "    [theme=dark] .colab-df-convert {\n",
              "      background-color: #3B4455;\n",
              "      fill: #D2E3FC;\n",
              "    }\n",
              "\n",
              "    [theme=dark] .colab-df-convert:hover {\n",
              "      background-color: #434B5C;\n",
              "      box-shadow: 0px 1px 3px 1px rgba(0, 0, 0, 0.15);\n",
              "      filter: drop-shadow(0px 1px 2px rgba(0, 0, 0, 0.3));\n",
              "      fill: #FFFFFF;\n",
              "    }\n",
              "  </style>\n",
              "\n",
              "      <script>\n",
              "        const buttonEl =\n",
              "          document.querySelector('#df-e050787e-baf6-43e0-bbf7-3dcd5a5ce05b button.colab-df-convert');\n",
              "        buttonEl.style.display =\n",
              "          google.colab.kernel.accessAllowed ? 'block' : 'none';\n",
              "\n",
              "        async function convertToInteractive(key) {\n",
              "          const element = document.querySelector('#df-e050787e-baf6-43e0-bbf7-3dcd5a5ce05b');\n",
              "          const dataTable =\n",
              "            await google.colab.kernel.invokeFunction('convertToInteractive',\n",
              "                                                     [key], {});\n",
              "          if (!dataTable) return;\n",
              "\n",
              "          const docLinkHtml = 'Like what you see? Visit the ' +\n",
              "            '<a target=\"_blank\" href=https://colab.research.google.com/notebooks/data_table.ipynb>data table notebook</a>'\n",
              "            + ' to learn more about interactive tables.';\n",
              "          element.innerHTML = '';\n",
              "          dataTable['output_type'] = 'display_data';\n",
              "          await google.colab.output.renderOutput(dataTable, element);\n",
              "          const docLink = document.createElement('div');\n",
              "          docLink.innerHTML = docLinkHtml;\n",
              "          element.appendChild(docLink);\n",
              "        }\n",
              "      </script>\n",
              "    </div>\n",
              "  </div>\n",
              "  "
            ]
          },
          "metadata": {},
          "execution_count": 227
        }
      ]
    },
    {
      "cell_type": "code",
      "source": [
        "df.to_csv('outputs.csv')\n",
        "#symbol order is wrong for some reason"
      ],
      "metadata": {
        "id": "8h5F-L826bgJ"
      },
      "execution_count": 228,
      "outputs": []
    }
  ]
}